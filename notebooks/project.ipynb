{
 "cells": [
  {
   "cell_type": "markdown",
   "metadata": {},
   "source": [
    "# CIFO Project"
   ]
  },
  {
   "cell_type": "code",
   "execution_count": 1,
   "metadata": {},
   "outputs": [],
   "source": [
    "import sys\n",
    "import os\n",
    "\n",
    "# Add the full path to CIFO_PROJECT to sys.path\n",
    "sys.path.append(os.path.abspath(os.path.join(os.getcwd(), \"..\")))\n",
    "\n",
    "from copy import deepcopy\n",
    "import random\n",
    "from random import sample, shuffle\n",
    "from statistics import stdev\n",
    "import pandas as pd\n"
   ]
  },
  {
   "cell_type": "code",
   "execution_count": 2,
   "metadata": {},
   "outputs": [],
   "source": [
    "import importlib.util\n",
    "import sys\n",
    "import os\n",
    "\n",
    "# Load solution.py as a module named 'library.solution'\n",
    "module_path = os.path.abspath(\"../library/solution.py\")\n",
    "spec = importlib.util.spec_from_file_location(\"library.solution\", module_path)\n",
    "solution = importlib.util.module_from_spec(spec)\n",
    "sys.modules[\"library.solution\"] = solution\n",
    "spec.loader.exec_module(solution)\n",
    "\n",
    "# Now the import works\n",
    "from library.solution import Solution"
   ]
  },
  {
   "cell_type": "code",
   "execution_count": 3,
   "metadata": {},
   "outputs": [
    {
     "name": "stdout",
     "output_type": "stream",
     "text": [
      "    Unnamed: 0              Name Position  Skill  Salary (€M)\n",
      "0            0       Alex Carter       GK     85           90\n",
      "1            1      Jordan Smith       GK     88          100\n",
      "2            2     Ryan Mitchell       GK     83           85\n",
      "3            3    Chris Thompson       GK     80           80\n",
      "4            4   Blake Henderson       GK     87           95\n",
      "5            5     Daniel Foster      DEF     90          110\n",
      "6            6     Lucas Bennett      DEF     85           90\n",
      "7            7       Owen Parker      DEF     88          100\n",
      "8            8      Ethan Howard      DEF     80           70\n",
      "9            9        Mason Reed      DEF     82           75\n",
      "10          10      Logan Brooks      DEF     86           95\n",
      "11          11      Caleb Fisher      DEF     84           85\n",
      "12          12     Nathan Wright      MID     92          120\n",
      "13          13      Connor Hayes      MID     89          105\n",
      "14          14      Dylan Morgan      MID     91          115\n",
      "15          15     Hunter Cooper      MID     83           85\n",
      "16          16     Austin Torres      MID     82           80\n",
      "17          17  Gavin Richardson      MID     87           95\n",
      "18          18      Spencer Ward      MID     84           85\n",
      "19          19   Sebastian Perry      FWD     95          150\n",
      "20          20     Xavier Bryant      FWD     90          120\n",
      "21          21    Elijah Sanders      FWD     93          140\n",
      "22          22    Adrian Collins      FWD     85           90\n",
      "23          23     Tyler Jenkins      FWD     80           70\n",
      "24          24      Chase Murphy      FWD     86           95\n",
      "25          25     Landon Powell      FWD     89          110\n",
      "26          26      Julian Scott      FWD     92          130\n",
      "27          27    Bentley Rivera      MID     88          100\n",
      "28          28    Maxwell Flores      DEF     81           72\n",
      "29          29      Dominic Bell      MID     86           95\n",
      "30          30     Jaxon Griffin      DEF     79           65\n",
      "31          31   Ashton Phillips      MID     90          110\n",
      "32          32       Colton Gray      FWD     91          125\n",
      "33          33    Brayden Hughes      DEF     87          100\n",
      "34          34    Zachary Nelson      FWD     86           92\n"
     ]
    }
   ],
   "source": [
    "#import players from csv\n",
    "\n",
    "players = pd.read_csv('../data/players.csv')\n",
    "print(players)"
   ]
  },
  {
   "cell_type": "code",
   "execution_count": 4,
   "metadata": {},
   "outputs": [
    {
     "data": {
      "text/plain": [
       "(35, 5)"
      ]
     },
     "execution_count": 4,
     "metadata": {},
     "output_type": "execute_result"
    }
   ],
   "source": [
    "players.shape"
   ]
  },
  {
   "cell_type": "code",
   "execution_count": 5,
   "metadata": {},
   "outputs": [],
   "source": [
    "names = players['Name'].tolist()\n",
    "positions = players['Position'].tolist()\n",
    "skills = players['Skill'].tolist()\n",
    "salaries = players['Salary (€M)'].tolist()\n",
    "\n",
    "capacity = 750\n",
    "num_teams=5\n",
    "team_size=7"
   ]
  },
  {
   "cell_type": "markdown",
   "metadata": {},
   "source": [
    "## Sports League Optimization Solution"
   ]
  },
  {
   "cell_type": "code",
   "execution_count": 6,
   "metadata": {},
   "outputs": [],
   "source": [
    "#Creating the Solution for Sports League Optimization (SLO)\n",
    "from library.solution import Solution\n",
    "\"\"\"Problem definition\n",
    "Problem: Sports League Optimization (SLO)\n",
    "Search space: All possible assignments of 35 players into 5 teams, each with 7 players (non-overlapping). Each team must be composed of: 1GK, 2DEF, 2MID, 2FWD.\n",
    "Representation: List of 5 teams each one with a list of 7 players.\n",
    "Fitness function: f(x)= standard deviation of the average skill rating of the teams.\n",
    "Neighborhood: Swap two players with the same position between two teams.\n",
    "Goal: Minimize f(x).\n",
    "\"\"\"\n",
    "\n",
    "class SLOSolution(Solution):\n",
    "\n",
    "    def __init__(\n",
    "            self,\n",
    "            names: list[str]=names,\n",
    "            positions : list[str]=positions,\n",
    "            skills : list[int]=skills,\n",
    "            salaries : list[int]=salaries,\n",
    "            capacity: int = capacity,\n",
    "            repr=None\n",
    "    ):\n",
    "        self.names = names\n",
    "        self.positions = positions\n",
    "        self.skills = skills\n",
    "        self.salaries = salaries\n",
    "        self.num_teams = num_teams\n",
    "        self.team_size = team_size\n",
    "        self.capacity = capacity\n",
    "\n",
    "        # Grouping players by position\n",
    "        self.players_by_position = {\n",
    "            'GK': [i for i, position in enumerate(self.positions) if position == 'GK'],\n",
    "            'DEF': [i for i, position in enumerate(self.positions) if position == 'DEF'],\n",
    "            'MID': [i for i, position in enumerate(self.positions) if position == 'MID'],\n",
    "            'FWD': [i for i, position in enumerate(self.positions) if position == 'FWD'],\n",
    "        }\n",
    "\n",
    "\n",
    "        if repr:\n",
    "            repr = self._validate_repr(repr)\n",
    "\n",
    "        super().__init__(repr = repr)\n",
    "\n",
    "\n",
    "    #MAYBE A BETER VALIDATE FUNCTION IS NEEDED\n",
    "    #--------------------------------------------------------\n",
    "    def _validate_repr(self,repr):\n",
    "        # Check if the representation is a list of teams\n",
    "        if not isinstance(repr, list):\n",
    "            raise ValueError(\"Representation must be a list of teams\")\n",
    "        #check if the number of teams is correct\n",
    "        if len(repr) != self.num_teams:\n",
    "            raise ValueError(\"Number of teams must be equal to num_teams\")\n",
    "        #check if each team has the correct number of players\n",
    "        for team in repr:\n",
    "            if not isinstance(team, list):\n",
    "                raise ValueError(\"Each team must be a list of players\")\n",
    "            if len(team) != self.team_size:\n",
    "                raise ValueError(\"Each team must have 7 players\")\n",
    "            \n",
    "\n",
    "        #check if team is valid (1GK, 2DEF, 2 MID, 2FWD)\n",
    "        seen_players = set()\n",
    "\n",
    "        for i, team in enumerate(repr):\n",
    "            team_positions = {'GK': 0, 'DEF': 0, 'MID': 0, 'FWD': 0}\n",
    "            team_salary = 0\n",
    "\n",
    "            seen_players = set()\n",
    "            for player_idx in team:\n",
    "                # Check that the player hasn't already been assigned\n",
    "                if player_idx in seen_players:\n",
    "                    raise ValueError(f\"Player {player_idx} assigned to multiple teams\")\n",
    "                seen_players.add(player_idx)\n",
    "\n",
    "                pos = self.positions[player_idx]\n",
    "                sal = self.salaries[player_idx] # TO BE CONFIRMED\n",
    "\n",
    "                if pos not in team_positions:\n",
    "                    raise ValueError(f\"Invalid position; '{pos}', for player {player_idx}\")\n",
    "                team_positions[pos] += 1 \n",
    "                team_salary += sal # TO BE CONFIRMED\n",
    "\n",
    "            \n",
    "            if team_positions != {'GK': 1, 'DEF': 2, 'MID': 2, 'FWD': 2}:\n",
    "                raise ValueError(f\"Team {i} has invalid composition: {team_positions}\")\n",
    "            \n",
    "            # TO BE CONFIRMED\n",
    "            if team_salary > self.capacity:\n",
    "                raise ValueError(f\"Team {i} exceeds salary cap: {team_salary:.2f}M > {self.capacity}M\")\n",
    "        return repr\n",
    "        \n",
    "    \n",
    "    def random_initial_representation(self):\n",
    "        isValid = False\n",
    "\n",
    "        while not isValid:\n",
    "            try:\n",
    "                repr = []\n",
    "                used_players = set()\n",
    "\n",
    "                for _ in range(self.num_teams):\n",
    "                    team = []\n",
    "                    gk = random.choice([p for p in self.players_by_position['GK'] if p not in used_players])\n",
    "                    used_players.add(gk)\n",
    "                    team.append(gk)\n",
    "\n",
    "                    def_players = random.sample([p for p in self.players_by_position['DEF'] if p not in used_players], 2)\n",
    "                    used_players.update(def_players)\n",
    "                    team.extend(def_players)\n",
    "\n",
    "                    mid_players = random.sample([p for p in self.players_by_position['MID'] if p not in used_players], 2)\n",
    "                    used_players.update(mid_players)\n",
    "                    team.extend(mid_players)\n",
    "\n",
    "                    fwd_players = random.sample([p for p in self.players_by_position['FWD'] if p not in used_players], 2)\n",
    "                    used_players.update(fwd_players)\n",
    "                    team.extend(fwd_players)\n",
    "\n",
    "                    repr.append(team)\n",
    "\n",
    "                repr = self._validate_repr(repr)\n",
    "                isValid = True\n",
    "\n",
    "            except (ValueError, IndexError) as e:\n",
    "                print(f\"Invalid representation: {e}\")\n",
    "                isValid = False\n",
    "\n",
    "        return repr\n",
    "\n",
    "                    \n",
    "    def fitness(self):\n",
    "\n",
    "        team_avg_skill=[]\n",
    "\n",
    "        for team in self.repr:\n",
    "            team_salary = sum(self.salaries[player_idx] for player_idx in team)\n",
    "            if team_salary > self.capacity:\n",
    "                return 999\n",
    "\n",
    "            team_skills=[self.skills[player_idx] for player_idx in team]\n",
    "            avg_skill=sum(team_skills)/len(team_skills)\n",
    "            team_avg_skill.append(avg_skill)\n",
    "        \n",
    "        return stdev(team_avg_skill)"
   ]
  },
  {
   "cell_type": "code",
   "execution_count": 7,
   "metadata": {},
   "outputs": [
    {
     "name": "stdout",
     "output_type": "stream",
     "text": [
      "Invalid representation: Team 0 exceeds salary cap: 765.00M > 750M\n",
      "Invalid representation: Team 1 exceeds salary cap: 775.00M > 750M\n",
      "Random teams:\n",
      "Team 1: ['Chris Thompson', 'Jaxon Griffin', 'Brayden Hughes', 'Nathan Wright', 'Hunter Cooper', 'Julian Scott', 'Xavier Bryant']\n",
      "Team 2: ['Alex Carter', 'Lucas Bennett', 'Daniel Foster', 'Dominic Bell', 'Bentley Rivera', 'Landon Powell', 'Sebastian Perry']\n",
      "Team 3: ['Jordan Smith', 'Mason Reed', 'Owen Parker', 'Gavin Richardson', 'Dylan Morgan', 'Chase Murphy', 'Tyler Jenkins']\n",
      "Team 4: ['Blake Henderson', 'Logan Brooks', 'Caleb Fisher', 'Connor Hayes', 'Spencer Ward', 'Colton Gray', 'Adrian Collins']\n",
      "Team 5: ['Ryan Mitchell', 'Maxwell Flores', 'Ethan Howard', 'Ashton Phillips', 'Austin Torres', 'Zachary Nelson', 'Elijah Sanders']\n",
      "Fitness: 1.7035377355158678\n"
     ]
    }
   ],
   "source": [
    "#create a team to test the code\n",
    "slo_solution = SLOSolution(\n",
    "    names=names, \n",
    "    positions=positions, \n",
    "    skills=skills, \n",
    "    salaries=salaries, \n",
    "    capacity=capacity, \n",
    "    repr=None\n",
    ")\n",
    "\n",
    "random_teams = slo_solution.random_initial_representation()\n",
    "print(\"Random teams:\") \n",
    "for i, team in enumerate(random_teams):\n",
    "    print(f\"Team {i+1}: {[names[player_idx] for player_idx in team]}\")\n",
    "    #check fitness of the repr\n",
    "print(f\"Fitness: {slo_solution.fitness()}\") #TO BE CONFIRMED"
   ]
  },
  {
   "cell_type": "markdown",
   "metadata": {},
   "source": [
    "## Mutation Functions"
   ]
  },
  {
   "cell_type": "code",
   "execution_count": 8,
   "metadata": {},
   "outputs": [],
   "source": [
    "def mutation1():\n",
    "    pass"
   ]
  },
  {
   "cell_type": "markdown",
   "metadata": {},
   "source": [
    "## Crossover Functions"
   ]
  },
  {
   "cell_type": "code",
   "execution_count": 12,
   "metadata": {},
   "outputs": [],
   "source": [
    "# ➜  cifo_project/library/algorithms/crossover.py    (for example)\n",
    "\n",
    "import random\n",
    "from typing import List, Tuple\n",
    "\n",
    "TEAM_SIZE   = 7          # 1 GK, 2 DEF, 2 MID, 2 FWD\n",
    "NUM_TEAMS   = 5\n",
    "CHROMO_LEN  = TEAM_SIZE * NUM_TEAMS     # 35 genes  (unique player IDs)\n",
    "\n",
    "def _flatten(repr_: List[List[int]]) -> List[int]:\n",
    "    \"\"\"team-of-lists  ➜  single permutation (length = 35).\"\"\"\n",
    "    return [player for team in repr_ for player in team]\n",
    "\n",
    "def _unflatten(flat: List[int]) -> List[List[int]]:\n",
    "    \"\"\"permutation ➜ team-of-lists (preserves GK/DEF/MID/FWD slot order).\"\"\"\n",
    "    return [flat[i:i+TEAM_SIZE] for i in range(0, CHROMO_LEN, TEAM_SIZE)]\n",
    "\n",
    "\n",
    "def cycle_crossover(p1: List[List[int]],\n",
    "                    p2: List[List[int]],\n",
    "                    rng: random.Random | None = None\n",
    "                   ) -> Tuple[List[List[int]], List[List[int]]]:\n",
    "    \"\"\"\n",
    "    Standard Cycle Crossover (CX) for permutations, adapted to your\n",
    "    5×7 matrix representation.  Returns two children (same structure).\n",
    "    \"\"\"\n",
    "    if rng is None:\n",
    "        rng = random\n",
    "\n",
    "    # --- flatten the parents -------------------------------------------------\n",
    "    parent1 = _flatten(p1)\n",
    "    parent2 = _flatten(p2)\n",
    "\n",
    "    # mapping gene ➜ index for O(1) look-ups in parent1\n",
    "    idx_in_p1 = {gene: idx for idx, gene in enumerate(parent1)}\n",
    "\n",
    "    size     = CHROMO_LEN\n",
    "    visited  = [False] * size\n",
    "    child1   = [None]  * size\n",
    "    child2   = [None]  * size\n",
    "    cycle_no = 0\n",
    "\n",
    "    while not all(visited):\n",
    "        start = visited.index(False)          # first unvisited position\n",
    "        idx   = start\n",
    "        cycle = []\n",
    "\n",
    "        # ------ trace one cycle ----------\n",
    "        while True:\n",
    "            cycle.append(idx)\n",
    "            visited[idx] = True\n",
    "            gene_from_p2 = parent2[idx]\n",
    "            idx = idx_in_p1[gene_from_p2]     # where that gene sits in P1\n",
    "            if visited[idx]:\n",
    "                break\n",
    "\n",
    "        # ------ copy genes ---------------\n",
    "        if cycle_no % 2 == 0:                 # even-numbered cycle\n",
    "            for i in cycle:\n",
    "                child1[i] = parent1[i]\n",
    "                child2[i] = parent2[i]\n",
    "        else:                                 # odd-numbered cycle\n",
    "            for i in cycle:\n",
    "                child1[i] = parent2[i]\n",
    "                child2[i] = parent1[i]\n",
    "\n",
    "        cycle_no += 1\n",
    "\n",
    "    # --- rebuild the 5 teams and return --------------------------------------\n",
    "    return _unflatten(child1), _unflatten(child2)\n"
   ]
  },
  {
   "cell_type": "code",
   "execution_count": 13,
   "metadata": {},
   "outputs": [
    {
     "name": "stdout",
     "output_type": "stream",
     "text": [
      "Child-A fitness: 0.888704629428333\n",
      "Child-B fitness: 1.0121708333667607\n"
     ]
    }
   ],
   "source": [
    "# --- create two random parents ---------------------------------\n",
    "p1 = slo_solution.random_initial_representation()\n",
    "p2 = slo_solution.random_initial_representation()\n",
    "\n",
    "# --- crossover --------------------------------------------------\n",
    "childA_repr, childB_repr = cycle_crossover(p1, p2)\n",
    "\n",
    "# validate & compute fitness\n",
    "childA = SLOSolution(repr=childA_repr)\n",
    "childB = SLOSolution(repr=childB_repr)\n",
    "\n",
    "print(\"Child-A fitness:\", childA.fitness())\n",
    "print(\"Child-B fitness:\", childB.fitness())\n"
   ]
  },
  {
   "cell_type": "markdown",
   "metadata": {},
   "source": [
    "## Selection Functions"
   ]
  },
  {
   "cell_type": "code",
   "execution_count": 10,
   "metadata": {},
   "outputs": [],
   "source": [
    "def tournament_selection(population, k=3):\n",
    "\n",
    "    # Select a random subset of the population for the tournament\n",
    "    tournament_solutions = random.sample(population, k)\n",
    "\n",
    "    best = min(tournament_solutions, key=lambda ind: ind.fitness())\n",
    "\n",
    "    return deepcopy(best)"
   ]
  },
  {
   "cell_type": "code",
   "execution_count": null,
   "metadata": {},
   "outputs": [],
   "source": []
  },
  {
   "cell_type": "markdown",
   "metadata": {},
   "source": [
    "## SLO Genetic Algorithm Solution"
   ]
  },
  {
   "cell_type": "code",
   "execution_count": 11,
   "metadata": {},
   "outputs": [],
   "source": [
    "class SLOGASolution(SLOSolution):\n",
    "    def __init__(\n",
    "            self,\n",
    "            names,\n",
    "            positions,\n",
    "            skills,\n",
    "            salaries,\n",
    "            capacity,\n",
    "            mutation_function,\n",
    "            crossover_function,\n",
    "            repr=None,\n",
    "    ):\n",
    "        super().__init__(\n",
    "            names=names,\n",
    "            positions=positions,\n",
    "            skills=skills,\n",
    "            salaries=salaries,\n",
    "            capacity=capacity,\n",
    "            repr=repr,\n",
    "        )\n",
    "        self.mutation_function = mutation_function\n",
    "        self.crossover_function = crossover_function\n",
    "        "
   ]
  }
 ],
 "metadata": {
  "kernelspec": {
   "display_name": "DM2425",
   "language": "python",
   "name": "python3"
  },
  "language_info": {
   "codemirror_mode": {
    "name": "ipython",
    "version": 3
   },
   "file_extension": ".py",
   "mimetype": "text/x-python",
   "name": "python",
   "nbconvert_exporter": "python",
   "pygments_lexer": "ipython3",
   "version": "3.12.2"
  }
 },
 "nbformat": 4,
 "nbformat_minor": 2
}
