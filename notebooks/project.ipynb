{
 "cells": [
  {
   "cell_type": "markdown",
   "metadata": {},
   "source": [
    "# CIFO Project"
   ]
  },
  {
   "cell_type": "code",
   "execution_count": 1,
   "metadata": {},
   "outputs": [],
   "source": [
    "import sys\n",
    "sys.path.append('..')\n",
    "from copy import deepcopy\n",
    "import random\n",
    "from random import sample, shuffle\n",
    "from statistics import stdev\n",
    "import pandas as pd"
   ]
  },
  {
   "cell_type": "code",
   "execution_count": 2,
   "metadata": {},
   "outputs": [
    {
     "name": "stdout",
     "output_type": "stream",
     "text": [
      "    Unnamed: 0              Name Position  Skill  Salary (€M)\n",
      "0            0       Alex Carter       GK     85           90\n",
      "1            1      Jordan Smith       GK     88          100\n",
      "2            2     Ryan Mitchell       GK     83           85\n",
      "3            3    Chris Thompson       GK     80           80\n",
      "4            4   Blake Henderson       GK     87           95\n",
      "5            5     Daniel Foster      DEF     90          110\n",
      "6            6     Lucas Bennett      DEF     85           90\n",
      "7            7       Owen Parker      DEF     88          100\n",
      "8            8      Ethan Howard      DEF     80           70\n",
      "9            9        Mason Reed      DEF     82           75\n",
      "10          10      Logan Brooks      DEF     86           95\n",
      "11          11      Caleb Fisher      DEF     84           85\n",
      "12          12     Nathan Wright      MID     92          120\n",
      "13          13      Connor Hayes      MID     89          105\n",
      "14          14      Dylan Morgan      MID     91          115\n",
      "15          15     Hunter Cooper      MID     83           85\n",
      "16          16     Austin Torres      MID     82           80\n",
      "17          17  Gavin Richardson      MID     87           95\n",
      "18          18      Spencer Ward      MID     84           85\n",
      "19          19   Sebastian Perry      FWD     95          150\n",
      "20          20     Xavier Bryant      FWD     90          120\n",
      "21          21    Elijah Sanders      FWD     93          140\n",
      "22          22    Adrian Collins      FWD     85           90\n",
      "23          23     Tyler Jenkins      FWD     80           70\n",
      "24          24      Chase Murphy      FWD     86           95\n",
      "25          25     Landon Powell      FWD     89          110\n",
      "26          26      Julian Scott      FWD     92          130\n",
      "27          27    Bentley Rivera      MID     88          100\n",
      "28          28    Maxwell Flores      DEF     81           72\n",
      "29          29      Dominic Bell      MID     86           95\n",
      "30          30     Jaxon Griffin      DEF     79           65\n",
      "31          31   Ashton Phillips      MID     90          110\n",
      "32          32       Colton Gray      FWD     91          125\n",
      "33          33    Brayden Hughes      DEF     87          100\n",
      "34          34    Zachary Nelson      FWD     86           92\n"
     ]
    }
   ],
   "source": [
    "#import players from csv\n",
    "\n",
    "players = pd.read_csv('../data/players.csv')\n",
    "print(players)"
   ]
  },
  {
   "cell_type": "code",
   "execution_count": 8,
   "metadata": {},
   "outputs": [
    {
     "data": {
      "text/plain": [
       "(35, 5)"
      ]
     },
     "execution_count": 8,
     "metadata": {},
     "output_type": "execute_result"
    }
   ],
   "source": [
    "players.shape"
   ]
  },
  {
   "cell_type": "code",
   "execution_count": 3,
   "metadata": {},
   "outputs": [],
   "source": [
    "names = players['Name'].tolist()\n",
    "positions = players['Position'].tolist()\n",
    "skills = players['Skill'].tolist()\n",
    "salaries = players['Salary (€M)'].tolist()\n",
    "\n",
    "capacity = 750\n",
    "num_teams=5\n",
    "team_size=7"
   ]
  },
  {
   "cell_type": "markdown",
   "metadata": {},
   "source": [
    "## Sports League Optimization Solution"
   ]
  },
  {
   "cell_type": "code",
   "execution_count": 21,
   "metadata": {},
   "outputs": [],
   "source": [
    "#Creating the Solution for Sports League Optimization (SLO)\n",
    "from library.solution import Solution\n",
    "\"\"\"Problem definition\n",
    "Problem: Sports League Optimization (SLO)\n",
    "Search space: All possible assignments of 35 players into 5 teams, each with 7 players (non-overlapping). Each team must be composed of: 1GK, 2DEF, 2MID, 2FWD.\n",
    "Representation: List of 5 teams each one with a list of 7 players.\n",
    "Fitness function: f(x)= standard deviation of the average skill rating of the teams.\n",
    "Neighborhood: Swap two players with the same position between two teams.\n",
    "Goal: Minimize f(x).\n",
    "\"\"\"\n",
    "\n",
    "class SLOSolution(Solution):\n",
    "\n",
    "    def __init__(\n",
    "            self,\n",
    "            names: list[str]=names,\n",
    "            positions : list[str]=positions,\n",
    "            skills : list[int]=skills,\n",
    "            salaries : list[int]=salaries,\n",
    "            capacity: int = capacity,\n",
    "            repr=None\n",
    "    ):\n",
    "        self.names = names\n",
    "        self.positions = positions\n",
    "        self.skills = skills\n",
    "        self.salaries = salaries\n",
    "        self.num_teams = num_teams\n",
    "        self.team_size = team_size\n",
    "        self.capacity = capacity\n",
    "\n",
    "        # Grouping players by position\n",
    "        self.players_by_position = {\n",
    "            'GK': [i for i, position in enumerate(self.positions) if position == 'GK'],\n",
    "            'DEF': [i for i, position in enumerate(self.positions) if position == 'DEF'],\n",
    "            'MID': [i for i, position in enumerate(self.positions) if position == 'MID'],\n",
    "            'FWD': [i for i, position in enumerate(self.positions) if position == 'FWD'],\n",
    "        }\n",
    "\n",
    "\n",
    "        if repr:\n",
    "            repr = self._validate_repr(repr)\n",
    "\n",
    "        super().__init__(repr = repr)\n",
    "\n",
    "\n",
    "    #MAYBE A BETER VALIDATE FUNCTION IS NEEDED\n",
    "    #--------------------------------------------------------\n",
    "    def _validate_repr(self,repr):\n",
    "        # Check if the representation is a list of teams\n",
    "        if not isinstance(repr, list):\n",
    "            raise ValueError(\"Representation must be a list of teams\")\n",
    "        #check if the number of teams is correct\n",
    "        if len(repr) != self.num_teams:\n",
    "            raise ValueError(\"Number of teams must be equal to num_teams\")\n",
    "        #check if each team has the correct number of players\n",
    "        for team in repr:\n",
    "            if not isinstance(team, list):\n",
    "                raise ValueError(\"Each team must be a list of players\")\n",
    "            if len(team) != self.team_size:\n",
    "                raise ValueError(\"Each team must have 7 players\")\n",
    "            \n",
    "\n",
    "        #check if team is valid (1GK, 2DEF, 2 MID, 2FWD)\n",
    "        seen_players = set()\n",
    "\n",
    "        for i, team in enumerate(repr):\n",
    "            team_positions = {'GK': 0, 'DEF': 0, 'MID': 0, 'FWD': 0}\n",
    "            team_salary = 0\n",
    "\n",
    "            seen_players = set()\n",
    "            for player_idx in team:\n",
    "                # Check that the player hasn't already been assigned\n",
    "                if player_idx in seen_players:\n",
    "                    raise ValueError(f\"Player {player_idx} assigned to multiple teams\")\n",
    "                seen_players.add(player_idx)\n",
    "\n",
    "                pos = self.positions[player_idx]\n",
    "                sal = self.salaries[player_idx] # TO BE CONFIRMED\n",
    "\n",
    "                if pos not in team_positions:\n",
    "                    raise ValueError(f\"Invalid position; '{pos}', for player {player_idx}\")\n",
    "                team_positions[pos] += 1 \n",
    "                team_salary += sal # TO BE CONFIRMED\n",
    "\n",
    "            \n",
    "            if team_positions != {'GK': 1, 'DEF': 2, 'MID': 2, 'FWD': 2}:\n",
    "                raise ValueError(f\"Team {i} has invalid composition: {team_positions}\")\n",
    "            \n",
    "            # TO BE CONFIRMED\n",
    "            if team_salary > self.capacity:\n",
    "                raise ValueError(f\"Team {i} exceeds salary cap: {team_salary:.2f}M > {self.capacity}M\")\n",
    "        return repr\n",
    "        \n",
    "    \n",
    "    def random_initial_representation(self):\n",
    "        isValid = False\n",
    "\n",
    "        while not isValid:\n",
    "            try:\n",
    "                repr = []\n",
    "                used_players = set()\n",
    "\n",
    "                for _ in range(self.num_teams):\n",
    "                    team = []\n",
    "                    gk = random.choice([p for p in self.players_by_position['GK'] if p not in used_players])\n",
    "                    used_players.add(gk)\n",
    "                    team.append(gk)\n",
    "\n",
    "                    def_players = random.sample([p for p in self.players_by_position['DEF'] if p not in used_players], 2)\n",
    "                    used_players.update(def_players)\n",
    "                    team.extend(def_players)\n",
    "\n",
    "                    mid_players = random.sample([p for p in self.players_by_position['MID'] if p not in used_players], 2)\n",
    "                    used_players.update(mid_players)\n",
    "                    team.extend(mid_players)\n",
    "\n",
    "                    fwd_players = random.sample([p for p in self.players_by_position['FWD'] if p not in used_players], 2)\n",
    "                    used_players.update(fwd_players)\n",
    "                    team.extend(fwd_players)\n",
    "\n",
    "                    repr.append(team)\n",
    "\n",
    "                repr = self._validate_repr(repr)\n",
    "                isValid = True\n",
    "\n",
    "            except (ValueError, IndexError) as e:\n",
    "                print(f\"Invalid representation: {e}\")\n",
    "                isValid = False\n",
    "\n",
    "        return repr\n",
    "\n",
    "                    \n",
    "    def fitness(self):\n",
    "\n",
    "        team_avg_skill=[]\n",
    "\n",
    "        for team in self.repr:\n",
    "            team_salary = sum(self.salaries[player_idx] for player_idx in team)\n",
    "            if team_salary > self.capacity:\n",
    "                return 999\n",
    "\n",
    "            team_skills=[self.skills[player_idx] for player_idx in team]\n",
    "            avg_skill=sum(team_skills)/len(team_skills)\n",
    "            team_avg_skill.append(avg_skill)\n",
    "        \n",
    "        return stdev(team_avg_skill)"
   ]
  },
  {
   "cell_type": "code",
   "execution_count": 20,
   "metadata": {},
   "outputs": [
    {
     "name": "stdout",
     "output_type": "stream",
     "text": [
      "Random teams:\n",
      "Team 1: ['Ryan Mitchell', 'Mason Reed', 'Logan Brooks', 'Bentley Rivera', 'Gavin Richardson', 'Zachary Nelson', 'Elijah Sanders']\n",
      "Team 2: ['Jordan Smith', 'Caleb Fisher', 'Ethan Howard', 'Spencer Ward', 'Austin Torres', 'Julian Scott', 'Sebastian Perry']\n",
      "Team 3: ['Alex Carter', 'Daniel Foster', 'Brayden Hughes', 'Dylan Morgan', 'Dominic Bell', 'Tyler Jenkins', 'Xavier Bryant']\n",
      "Team 4: ['Blake Henderson', 'Jaxon Griffin', 'Maxwell Flores', 'Nathan Wright', 'Hunter Cooper', 'Landon Powell', 'Chase Murphy']\n",
      "Team 5: ['Chris Thompson', 'Owen Parker', 'Lucas Bennett', 'Connor Hayes', 'Ashton Phillips', 'Adrian Collins', 'Colton Gray']\n",
      "Fitness: 999\n"
     ]
    }
   ],
   "source": [
    "#create a team to test the code\n",
    "slo_solution = SLOSolution(\n",
    "    names=names, \n",
    "    positions=positions, \n",
    "    skills=skills, \n",
    "    salaries=salaries, \n",
    "    capacity=capacity, \n",
    "    repr=None\n",
    ")\n",
    "\n",
    "random_teams = slo_solution.random_initial_representation()\n",
    "print(\"Random teams:\") \n",
    "for i, team in enumerate(random_teams):\n",
    "    print(f\"Team {i+1}: {[names[player_idx] for player_idx in team]}\")\n",
    "    #check fitness of the repr\n",
    "print(f\"Fitness: {slo_solution.fitness()}\") #TO BE CONFIRMED"
   ]
  },
  {
   "cell_type": "markdown",
   "metadata": {},
   "source": [
    "## Mutation Functions"
   ]
  },
  {
   "cell_type": "code",
   "execution_count": null,
   "metadata": {},
   "outputs": [],
   "source": [
    "def mutation1():\n",
    "    pass"
   ]
  },
  {
   "cell_type": "markdown",
   "metadata": {},
   "source": [
    "## Crossover Functions"
   ]
  },
  {
   "cell_type": "code",
   "execution_count": null,
   "metadata": {},
   "outputs": [],
   "source": [
    "def crossover1():\n",
    "    pass"
   ]
  },
  {
   "cell_type": "markdown",
   "metadata": {},
   "source": [
    "## Selection Functions"
   ]
  },
  {
   "cell_type": "code",
   "execution_count": null,
   "metadata": {},
   "outputs": [],
   "source": [
    "def tournament_selection(population, k=3):\n",
    "\n",
    "    # Select a random subset of the population for the tournament\n",
    "    tournament_solutions = random.sample(population, k)\n",
    "\n",
    "    best = min(tournament_solutions, key=lambda ind: ind.fitness())\n",
    "\n",
    "    return deepcopy(best)"
   ]
  },
  {
   "cell_type": "code",
   "execution_count": null,
   "metadata": {},
   "outputs": [],
   "source": [
    "def "
   ]
  },
  {
   "cell_type": "markdown",
   "metadata": {},
   "source": [
    "## SLO Genetic Algorithm Solution"
   ]
  },
  {
   "cell_type": "code",
   "execution_count": null,
   "metadata": {},
   "outputs": [],
   "source": [
    "class SLOGASolution(SLOSolution):\n",
    "    def __init__(\n",
    "            self,\n",
    "            names,\n",
    "            positions,\n",
    "            skills,\n",
    "            salaries,\n",
    "            capacity,\n",
    "            mutation_function,\n",
    "            crossover_function,\n",
    "            repr=None,\n",
    "    ):\n",
    "        super().__init__(\n",
    "            names=names,\n",
    "            positions=positions,\n",
    "            skills=skills,\n",
    "            salaries=salaries,\n",
    "            capacity=capacity,\n",
    "            repr=repr,\n",
    "        )\n",
    "        self.mutation_function = mutation_function\n",
    "        self.crossover_function = crossover_function\n",
    "        "
   ]
  }
 ],
 "metadata": {
  "kernelspec": {
   "display_name": "DM2425",
   "language": "python",
   "name": "python3"
  },
  "language_info": {
   "codemirror_mode": {
    "name": "ipython",
    "version": 3
   },
   "file_extension": ".py",
   "mimetype": "text/x-python",
   "name": "python",
   "nbconvert_exporter": "python",
   "pygments_lexer": "ipython3",
   "version": "3.12.6"
  }
 },
 "nbformat": 4,
 "nbformat_minor": 2
}
